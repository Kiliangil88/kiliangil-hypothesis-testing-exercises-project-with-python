{
 "cells": [
  {
   "cell_type": "markdown",
   "id": "d9d036c6",
   "metadata": {},
   "source": [
    "# Problemas de prueba de hipótesis"
   ]
  },
  {
   "cell_type": "markdown",
   "id": "d157c4db",
   "metadata": {},
   "source": [
    "## Ejercicio 1\n",
    "\n",
    "Usted es un nutricionista que investiga dos tipos diferentes de dietas para ver si existe una diferencia significativa en la pérdida de peso después de un mes. Eliges dos grupos aleatorios de personas; un grupo sigue la primera dieta y el otro sigue la segunda. Al final del mes, se registra la pérdida de peso (en kg) de cada persona:\n",
    "\n",
    "| Diet 1 | Diet 2 |\n",
    "|:-------|:-------|\n",
    "| 2.0 | 3.0 |\n",
    "| 2.5 | 3.2 |\n",
    "| 3.0 | 3.1 |\n",
    "| 2.8 | 2.9 |\n",
    "| 2.3 | 2.8 |\n",
    "| 2.7 | 3.0 |\n",
    "| 2.5 | 3.2 |\n",
    "\n",
    "Con estos datos se busca responder a la siguiente pregunta: ¿Existe una diferencia significativa en la pérdida de peso promedio entre las personas que siguieron la primera dieta y las que siguieron la segunda dieta?\n",
    "\n",
    "Para sacar conclusiones, siga los siguientes puntos:\n",
    "\n",
    "-Enunciar la hipótesis: hipótesis nula y alternativa.\n",
    "-Realizar la prueba para comprobar la hipótesis. Puede utilizar la prueba t de Student.\n",
    "-Analizar las conclusiones."
   ]
  },
  {
   "cell_type": "markdown",
   "id": "3759016f",
   "metadata": {},
   "source": [
    "### Enunciar la hipótesis\n",
    "H0= No hay diferencia de pérdida de peso significativa entre los dos grupos.\n",
    "H1= Hay diferencia de pérdida de peso significativa entre los dos grupos."
   ]
  },
  {
   "cell_type": "code",
   "execution_count": 4,
   "id": "8e0f3cf0",
   "metadata": {},
   "outputs": [
    {
     "name": "stdout",
     "output_type": "stream",
     "text": [
      "T-value: -3.5383407969933938\n",
      "p-value: 0.004083270191713912\n",
      "Se rechaza la hipótesis nula\n"
     ]
    }
   ],
   "source": [
    "from scipy.stats import ttest_ind\n",
    "\n",
    "diet1 = [2.0, 2.5, 3.0, 2.8, 2.3, 2.7, 2.5]\n",
    "diet2 = [3.0, 3.2, 3.1, 2.9, 2.8, 3.0, 3.2]\n",
    "\n",
    "t_value, p_value = ttest_ind(diet1, diet2, alternative='two-sided')\n",
    "\n",
    "print(f'T-value: {t_value}')\n",
    "print(f'p-value: {p_value}')\n",
    "\n",
    "if p_value < 0.05:\n",
    "    print(f'Se rechaza la hipótesis nula')\n",
    "elif p_value >= 0.05:\n",
    "    print(f'Se acepta la hipótesis nula')\n"
   ]
  },
  {
   "cell_type": "markdown",
   "id": "873eac08",
   "metadata": {},
   "source": [
    "### Conclusión\n",
    "Como nuestro pvalor es inferior al grado de confianza rechazamos la hipótesis nula y asumimos que hay diferencias significativas entre las dos dietas."
   ]
  },
  {
   "cell_type": "markdown",
   "id": "f432e18e",
   "metadata": {},
   "source": [
    "## ANOVA\n",
    "\n",
    "**ANOVA** (*Analysis of Variance - Análisis de variación*) Es una técnica estadística utilizada para comparar las medidas de dos o más grupos. La idea detrás de ANOVA es descomponer la variabilidad total de los datos en dos componentes: variabilidad entre grupos y variabilidad dentro de los grupos:\n",
    "\n",
    "- **Variabilidad entre grupos**: Esta variabilidad se refiere a las diferencias entre las medias del grupo. Si esta variabilidad es considerablemente mayor que la variabilidad dentro del grupo, podría ser una indicación de que al menos una de las medias del grupo es diferente.\n",
    "- **Variabilidad dentro del grupo**: Esta variabilidad se refiere a la dispersión de los datos dentro de cada grupo. Si todos los grupos tienen una variabilidad similar, entonces cualquier diferencia notable en las medias de los grupos podría considerarse significativa.\n",
    "\n",
    "Las hipótesis en ANOVA suelen incluir:\n",
    "\n",
    "- **Hipótesis nula** ($H₀$): Las medias de todos los grupos son iguales.\n",
    "- **Hipótesis alternativa** ($H₁$): Al menos una de las medias del grupo es diferente.\n",
    "\n",
    "Si el resultado de la prueba ANOVA es significativo (por ejemplo, un valor p inferior a un umbral como 0,05), esto sugiere que al menos la media de un grupo es diferente."
   ]
  },
  {
   "cell_type": "markdown",
   "id": "fc5f3721",
   "metadata": {},
   "source": [
    "## Ejercicio 2\n",
    "\n",
    "Un agricultor decide probar tres tipos diferentes de fertilizantes para determinar si alguno es superior en términos de producción de maíz. El agricultor planta maíz en 15 parcelas idénticas y utiliza los tres fertilizantes (5 parcelas para cada tipo). Al final de la temporada mide el rendimiento de maíz (en kg) de cada parcela, con el siguiente resultado:\n",
    "\n",
    "| Fertilizante 1 | Fertilizante 2 | Fertilizante 3 |\n",
    "|:-------------|:-------------|:-------------|\n",
    "| 20 | 22 | 24 |\n",
    "| 21 | 21 | 23 |\n",
    "| 20 | 23 | 22 |\n",
    "| 19 | 22 | 23 |\n",
    "| 20 | 21 | 24 |\n",
    "\n",
    "Con estos datos busca responder la siguiente pregunta: ¿Existe una diferencia significativa en el rendimiento promedio del maíz entre los tres tipos de fertilizantes?\n",
    "\n",
    "Para ayudarte, sigue los siguientes puntos:\n",
    "\n",
    "-Enunciar la hipótesis: hipótesis nula y alternativa.\n",
    "-Realizar la prueba ANOVA.\n",
    "-Analizar las conclusiones.\n",
    "-Si un fertilizante es mejor que otro, ¿cómo podemos saberlo?"
   ]
  },
  {
   "cell_type": "markdown",
   "id": "e689581b",
   "metadata": {},
   "source": [
    "### Enunciar la hipótesis\n",
    "H0 = No hay diferencia de rendimiento entre los tres tipos de fertilizantes.\n",
    "H1 = Hay diferencia de rendimiento entre los tres tipos de fertilizantes."
   ]
  },
  {
   "cell_type": "code",
   "execution_count": 5,
   "id": "eecad0ca",
   "metadata": {},
   "outputs": [
    {
     "name": "stdout",
     "output_type": "stream",
     "text": [
      "f-value: 20.31578947368421\n",
      "p-value: 0.000140478247931904\n",
      "Se rechaza la hipótesis nula\n"
     ]
    }
   ],
   "source": [
    "from scipy.stats import f_oneway\n",
    "\n",
    "fert_1 = [20, 21, 20, 19, 20]\n",
    "fert_2 = [22, 21, 23, 22, 21]\n",
    "fert_3 = [24, 23, 22, 23, 24]\n",
    "\n",
    "f_value, p_value = f_oneway(fert_1, fert_2, fert_3)\n",
    "\n",
    "print(f'f-value: {f_value}')\n",
    "print(f'p-value: {p_value}')\n",
    "\n",
    "if p_value < 0.05:\n",
    "    print(f'Se rechaza la hipótesis nula')\n",
    "elif p_value >= 0.05:\n",
    "    print(f'Se acepta la hipótesis nula')\n",
    "\n"
   ]
  },
  {
   "cell_type": "markdown",
   "id": "0f484961",
   "metadata": {},
   "source": [
    "### Conclusión\n",
    "Dado que el pvalor es inferior al nivel de significación, se rechaza la hipótesis nula y se asume que hay diferencias significativas entre las medias de los grupos."
   ]
  },
  {
   "cell_type": "markdown",
   "id": "7f96e562",
   "metadata": {},
   "source": [
    "### ¿Cuál es mejor?"
   ]
  },
  {
   "cell_type": "code",
   "execution_count": 6,
   "id": "deb965e5",
   "metadata": {},
   "outputs": [
    {
     "name": "stdout",
     "output_type": "stream",
     "text": [
      "Multiple Comparison of Means - Tukey HSD, FWER=0.05\n",
      "==================================================\n",
      "group1 group2 meandiff p-adj  lower  upper  reject\n",
      "--------------------------------------------------\n",
      "    F1     F2      1.8 0.0099 0.4572 3.1428   True\n",
      "    F1     F3      3.2 0.0001 1.8572 4.5428   True\n",
      "    F2     F3      1.4 0.0409 0.0572 2.7428   True\n",
      "--------------------------------------------------\n"
     ]
    }
   ],
   "source": [
    "import numpy as np\n",
    "from statsmodels.stats.multicomp import pairwise_tukeyhsd\n",
    "\n",
    "data = np.concatenate([fert_1, fert_2, fert_3])\n",
    "labels = [\"F1\"] * 5 + [\"F2\"] * 5 + [\"F3\"] * 5\n",
    "\n",
    "# Tukey test\n",
    "result = pairwise_tukeyhsd(data, labels, alpha = 0.05)\n",
    "print(result)"
   ]
  },
  {
   "cell_type": "markdown",
   "id": "e577c61b",
   "metadata": {},
   "source": [
    "A partir de la columna reject sabemos que hay diferencias significativas entre las medias de todos los grupos. \n",
    "Fijándonos en la columna meandiff podemos saber que el fertilizante con mayor rendimiento es el 3."
   ]
  },
  {
   "cell_type": "code",
   "execution_count": 9,
   "id": "7cf55afb",
   "metadata": {},
   "outputs": [
    {
     "data": {
      "image/png": "[encoded data removed]",
      "text/plain": [
       "<Figure size 800x600 with 1 Axes>"
      ]
     },
     "metadata": {},
     "output_type": "display_data"
    }
   ],
   "source": [
    "import matplotlib.pyplot as plt\n",
    "# Crear gráfico de cajas\n",
    "plt.style.use('seaborn-v0_8')\n",
    "fig, ax = plt.subplots(figsize=(8, 6))\n",
    "ax.boxplot([fert_1, fert_2, fert_3], patch_artist=True,\n",
    "           boxprops=dict(facecolor='lightblue', color='blue'),\n",
    "           medianprops=dict(color='red'))\n",
    "\n",
    "# Etiquetas y título\n",
    "ax.set_xticklabels(['Fertilizante 1', 'Fertilizante 2', 'Fertilizante 3'])\n",
    "ax.set_ylabel('Rendimiento')\n",
    "ax.set_title('Comparación de rendimiento entre fertilizantes')\n",
    "\n",
    "plt.show()"
   ]
  },
  {
   "cell_type": "markdown",
   "id": "9b4db7a3",
   "metadata": {},
   "source": [
    "En el caso del fertilizante 1 salen valores outliers, pero no se trata de ningún error, se da debido a la poca cantidad de datos y que son valores uniformes, que situa los valores 19 y 21 fuera del rango intercuartílico."
   ]
  },
  {
   "cell_type": "code",
   "execution_count": 11,
   "id": "ca0443a5",
   "metadata": {},
   "outputs": [
    {
     "data": {
      "image/png": "[encoded data removed]",
      "text/plain": [
       "<Figure size 800x600 with 1 Axes>"
      ]
     },
     "metadata": {},
     "output_type": "display_data"
    }
   ],
   "source": [
    "import numpy as np\n",
    "\n",
    "medias = [np.mean(fert_1), np.mean(fert_2), np.mean(fert_3)]\n",
    "errores = [np.std(fert_1, ddof=1), np.std(fert_2, ddof=1), np.std(fert_3, ddof=1)]\n",
    "\n",
    "plt.figure(figsize=(8,6))\n",
    "plt.bar(['Fertilizante 1', 'Fertilizante 2', 'Fertilizante 3'],\n",
    "        medias, capsize=5, color=['skyblue','lightgreen','salmon'])\n",
    "plt.ylabel('Rendimiento promedio')\n",
    "plt.title('Comparación del rendimiento promedio entre fertilizantes')\n",
    "plt.show()"
   ]
  }
 ],
 "metadata": {
  "kernelspec": {
   "display_name": "Python 3",
   "language": "python",
   "name": "python3"
  },
  "language_info": {
   "codemirror_mode": {
    "name": "ipython",
    "version": 3
   },
   "file_extension": ".py",
   "mimetype": "text/x-python",
   "name": "python",
   "nbconvert_exporter": "python",
   "pygments_lexer": "ipython3",
   "version": "3.11.4"
  }
 },
 "nbformat": 4,
 "nbformat_minor": 5
}
